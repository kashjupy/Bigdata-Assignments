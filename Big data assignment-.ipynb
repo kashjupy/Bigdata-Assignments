{
 "cells": [
  {
   "cell_type": "code",
   "execution_count": null,
   "id": "ac7a4426",
   "metadata": {},
   "outputs": [],
   "source": [
    "1. What is Big Data, exactly? List a few sources that generate large amounts of data.\n",
    "2. What are the advantages of Big Data processing?\n",
    "3. What causes Big Data projects to fail?\n",
    "4. Give examples of the five v's of big data.\n",
    "5. What are the different types of resource managers in Spark.n?"
   ]
  },
  {
   "cell_type": "code",
   "execution_count": null,
   "id": "53f65aa5",
   "metadata": {},
   "outputs": [],
   "source": [
    "1> The Bigdata itself is s elf explanatory means the large amount of data.If larege amount of data is also a problem for many companies to handle it\n",
    "The data generating sources are media,whatsap,fb insta,toutube,snapchat etc\n",
    "2>We can able to useful Business decisions to improve the revenue of the company\n",
    "3>Accurate data collection\n",
    "4>The 5 V's of big data (velocity, volume, value, variety and veracity) are the five main and innate characteristics of big data. Knowing the 5 V's allows data scientists to derive more value from their data while also allowing the scientists' organization to become more customer-centric.\n",
    "5>Standalone.\n",
    "Mesos.\n",
    "Yarn.\n",
    "Kubernetes (experimental) – In addition to the above, there is experimental support for Kubernetes. Kubernetes is an open-source platform for providing container-centric infrastructure."
   ]
  },
  {
   "cell_type": "code",
   "execution_count": null,
   "id": "68b837eb",
   "metadata": {},
   "outputs": [],
   "source": []
  },
  {
   "cell_type": "code",
   "execution_count": null,
   "id": "c96c859a",
   "metadata": {},
   "outputs": [],
   "source": []
  },
  {
   "cell_type": "code",
   "execution_count": null,
   "id": "641d7062",
   "metadata": {},
   "outputs": [],
   "source": []
  },
  {
   "cell_type": "code",
   "execution_count": null,
   "id": "359b37fa",
   "metadata": {},
   "outputs": [],
   "source": []
  }
 ],
 "metadata": {
  "kernelspec": {
   "display_name": "Python 3 (ipykernel)",
   "language": "python",
   "name": "python3"
  },
  "language_info": {
   "codemirror_mode": {
    "name": "ipython",
    "version": 3
   },
   "file_extension": ".py",
   "mimetype": "text/x-python",
   "name": "python",
   "nbconvert_exporter": "python",
   "pygments_lexer": "ipython3",
   "version": "3.9.12"
  }
 },
 "nbformat": 4,
 "nbformat_minor": 5
}
